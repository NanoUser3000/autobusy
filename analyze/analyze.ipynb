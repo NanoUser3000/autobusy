{
 "cells": [
  {
   "cell_type": "code",
   "execution_count": null,
   "metadata": {},
   "outputs": [],
   "source": [
    "import pandas as pd\n",
    "from lib.utils import df_from_jsonl, print_neighbours"
   ]
  },
  {
   "cell_type": "code",
   "execution_count": null,
   "metadata": {},
   "outputs": [],
   "source": [
    "# read from file with preprocessed data into df\n",
    "data_file = 'pre_bigdata'\n",
    "df = df_from_jsonl(data_file)"
   ]
  },
  {
   "cell_type": "code",
   "execution_count": null,
   "metadata": {},
   "outputs": [],
   "source": [
    "df.sort_values(by=['VehicleNumber', 'Time'], ascending=[True, True], inplace=True, ignore_index=True)\n",
    "df.drop_duplicates(['VehicleNumber', 'Time'], inplace=True) # possible duplicate measurements\n",
    "# todo: could drop vehicles with too few measurements, learn groupby"
   ]
  },
  {
   "cell_type": "code",
   "execution_count": null,
   "metadata": {},
   "outputs": [],
   "source": [
    "# drop unupdated gps positions\n",
    "def drop_gps_fails_v1(df):\n",
    "    df.reset_index(drop=True, inplace=True)\n",
    "    # todo dropping duplicates above becomes unnecessary\n",
    "    all_count = len(df)\n",
    "    dropped_count = 0\n",
    "    how_far_to_look = 1\n",
    "    for i in range(1, len(df)): # start from 1 to compare with previous\n",
    "        prev = i - how_far_to_look\n",
    "        drop_cond =  (df.at[i, 'Lon'] == df.at[prev, 'Lon']\n",
    "                    and df.at[i, 'Lat'] == df.at[prev, 'Lat']\n",
    "                    and df.at[i, 'VehicleNumber'] == df.at[prev, 'VehicleNumber'])\n",
    "        if drop_cond:\n",
    "            df.drop(i, inplace=True)\n",
    "            how_far_to_look += 1\n",
    "            dropped_count += 1\n",
    "        else:\n",
    "            how_far_to_look = 1\n",
    "    print(f'Dropped {dropped_count} out of {all_count} rows')\n",
    "\n",
    "def drop_gps_fails_v2(df):\n",
    "    df.reset_index(drop=True, inplace=True)\n",
    "    # todo dropping duplicates above becomes unnecessary\n",
    "    all_count = len(df)\n",
    "    dropped_count = 0\n",
    "    how_far_to_look = 1\n",
    "    for i in range(1, len(df)): # start from 1 to compare with previous\n",
    "        prev = i - how_far_to_look\n",
    "        drop_cond =  (df.at[i, 'Lon'] == df.at[prev, 'Lon']\n",
    "                    and df.at[i, 'Lat'] == df.at[prev, 'Lat']\n",
    "                    and df.at[i, 'VehicleNumber'] == df.at[prev, 'VehicleNumber'])\n",
    "        if drop_cond:\n",
    "            # df.drop(i, inplace=True)\n",
    "            df.at[i, 'Lon'] = None\n",
    "            how_far_to_look += 1\n",
    "            dropped_count += 1\n",
    "        else:\n",
    "            how_far_to_look = 1\n",
    "    print(f'Dropped {dropped_count} out of {all_count} rows')\n",
    "    df.dropna(subset=['Lon'], inplace=True)\n",
    "\n",
    "# drop_gps_fails_v2(df)\n",
    "# df.reset_index(drop=True, inplace=True)"
   ]
  },
  {
   "cell_type": "code",
   "execution_count": null,
   "metadata": {},
   "outputs": [],
   "source": [
    "# prepare deltas dataframe\n",
    "# note: df isn't changed in the process\n",
    "df_prev = df.shift(1)\n",
    "# todo: could guarantee vehicles are == while merging\n",
    "deltas_df = df.merge(df_prev, how='outer', left_index=True, right_index=True, suffixes=('', '_prev'))\n",
    "deltas_df = deltas_df[(deltas_df['VehicleNumber'] == deltas_df['VehicleNumber_prev'])\n",
    "                & (deltas_df['Time'] != deltas_df['Time_prev'])]\n",
    "deltas_df.drop(columns=['VehicleNumber_prev'], inplace=True)"
   ]
  },
  {
   "cell_type": "code",
   "execution_count": null,
   "metadata": {},
   "outputs": [],
   "source": [
    "# calculate distances and time differences\n",
    "from lib.distance import earth_distance_km, warsaw_distance_km, warsaw_numbers\n",
    "(km_lon, km_lat) = warsaw_numbers()\n",
    "\n",
    "deltas_df['Time_diff'] = (deltas_df['Time'] - deltas_df['Time_prev']).dt.total_seconds()\n",
    "deltas_df = deltas_df[deltas_df['Time_diff'] > 9]"
   ]
  },
  {
   "cell_type": "code",
   "execution_count": null,
   "metadata": {},
   "outputs": [],
   "source": [
    "deltas_df['Dist_pythagoras'] = ( ((deltas_df['Lat'] - deltas_df['Lat_prev'])*km_lat)**2 + ((deltas_df['Lon'] - deltas_df['Lon_prev'])*km_lon)**2  )**0.5\n",
    "# slow pythagoras:\n",
    "# deltas_df['Dist_pythagoras'] = deltas_df.apply(lambda row: warsaw_distance_km((row['Lon'], row['Lat']), (row['Lon_prev'], row['Lat_prev'])), axis=1)\n",
    "deltas_df['velocity_p'] = (deltas_df['Dist_pythagoras'] / deltas_df['Time_diff']) * 3600"
   ]
  },
  {
   "cell_type": "code",
   "execution_count": null,
   "metadata": {},
   "outputs": [],
   "source": [
    "# haversine is soo slow\n",
    "deltas_df['Dist_haversine'] = deltas_df.apply(lambda row: earth_distance_km((row['Lon'], row['Lat']), (row['Lon_prev'], row['Lat_prev'])), axis=1)\n",
    "deltas_df['velocity_h'] = deltas_df['Dist_haversine'] / deltas_df['Time_diff'] * 3600"
   ]
  },
  {
   "cell_type": "code",
   "execution_count": null,
   "metadata": {},
   "outputs": [],
   "source": [
    "# before calculating velocities:\n",
    "# TODO! filter out too big time diffs\n",
    "# TODO! filter out stale positions"
   ]
  },
  {
   "cell_type": "code",
   "execution_count": null,
   "metadata": {},
   "outputs": [],
   "source": [
    "df188 = deltas_df[deltas_df['Lines'] == '188'].copy()\n",
    "df188['VehicleNumber'].drop_duplicates()\n",
    "# df188[df188['VehicleNumber'] == 2226]"
   ]
  },
  {
   "cell_type": "code",
   "execution_count": null,
   "metadata": {},
   "outputs": [],
   "source": [
    "df188[df188['VehicleNumber'] == 8842]"
   ]
  },
  {
   "cell_type": "code",
   "execution_count": null,
   "metadata": {},
   "outputs": [],
   "source": [
    "# filter out too big velocities\n",
    "threshold = 120\n",
    "# TODO! filter out stale positions instead\n",
    "count = len(deltas_df)\n",
    "deltas_df = deltas_df[deltas_df['velocity_p'] < threshold]\n",
    "count2 = len(deltas_df)\n",
    "removed = count - count2\n",
    "print(f\"Removed {removed} out of {count} entries ({(removed)/count * 100}%).\")\n",
    "print(f\" (Too fast -- over {threshold} km/h)\")"
   ]
  },
  {
   "cell_type": "code",
   "execution_count": null,
   "metadata": {},
   "outputs": [],
   "source": [
    "deltas_df.reset_index(inplace=True, drop=True)\n",
    "# no removing from deltas_bf below"
   ]
  },
  {
   "cell_type": "code",
   "execution_count": null,
   "metadata": {},
   "outputs": [],
   "source": [
    "velo_max_idx = deltas_df['velocity_p'].idxmax()\n",
    "print_neighbours(deltas_df, velo_max_idx)"
   ]
  },
  {
   "cell_type": "code",
   "execution_count": null,
   "metadata": {},
   "outputs": [],
   "source": [
    "print(deltas_df.columns)\n",
    "print(deltas_df[['Dist_pythagoras', 'Time_diff', 'velocity_p']])\n",
    "print(deltas_df[['Dist_haversine', 'Time_diff', 'velocity_h']])\n",
    "\n",
    "deltas_df['relative_diff'] = abs(deltas_df['Dist_haversine'] - deltas_df['Dist_pythagoras']) / deltas_df['Dist_haversine']\n",
    "index_max = deltas_df['relative_diff'].idxmax()\n",
    "print(\"Max relative difference between haversine and pythagoras: \", deltas_df.loc[index_max]['relative_diff'])\n",
    "print(\"The rest:\")\n",
    "print(deltas_df.loc[index_max])\n",
    "\n",
    "index_velo_max = deltas_df['velocity_p'].idxmax()\n",
    "print(\"Max velocity:\", deltas_df.loc[index_velo_max]['velocity_p'])\n",
    "print(\"The rest:\")\n",
    "print(deltas_df.loc[index_velo_max])\n",
    "print(\"Neighbours:\")\n",
    "print_neighbours(deltas_df, index_velo_max)\n",
    "\n",
    "\n",
    "print()\n",
    "print(deltas_df['velocity_p'].describe())\n",
    "print()\n",
    "print(deltas_df['velocity_h'].describe())\n",
    "print()\n",
    "print(deltas_df['Time'].describe())\n",
    "print()\n",
    "print(deltas_df['Time_diff'].describe())\n"
   ]
  },
  {
   "cell_type": "code",
   "execution_count": null,
   "metadata": {},
   "outputs": [],
   "source": [
    "import plotly.graph_objects as go\n",
    "\n",
    "raise Exception(\"Don't draw the map with bajillion points\")\n",
    "# Create a Plotly scattergeo plot\n",
    "fig = go.Figure()\n",
    "\n",
    "# Add scattergeo trace\n",
    "fig.add_trace(go.Scattergeo(\n",
    "    lon = deltas_df['Lon'],\n",
    "    lat = deltas_df['Lat'],\n",
    "    mode = 'markers',\n",
    "    marker=dict(\n",
    "        size=10, # TODO: smaller\n",
    "        opacity=0.8,\n",
    "        reversescale=True,\n",
    "        autocolorscale=False,\n",
    "        colorscale='RdYlBu',  # Choose a suitable colorscale\n",
    "        cmin=min(deltas_df['velocity_p']),\n",
    "        color=deltas_df['velocity_p'],\n",
    "        cmax=max(deltas_df['velocity_p']),\n",
    "        colorbar_title='Velocity'\n",
    "    )\n",
    "))\n",
    "\n",
    "# Update layout\n",
    "fig.update_layout(\n",
    "    title='Velocity Map',\n",
    "    geo=dict(\n",
    "        showland=True,\n",
    "        landcolor=\"rgb(250, 250, 250)\",\n",
    "        showcountries=True,\n",
    "        countrycolor=\"rgb(100, 100, 100)\",\n",
    "        projection_type=\"equirectangular\"\n",
    "    )\n",
    ")\n",
    "\n",
    "fig.show()"
   ]
  }
 ],
 "metadata": {
  "kernelspec": {
   "display_name": "autobusy",
   "language": "python",
   "name": "autobusy"
  },
  "language_info": {
   "codemirror_mode": {
    "name": "ipython",
    "version": 3
   },
   "file_extension": ".py",
   "mimetype": "text/x-python",
   "name": "python",
   "nbconvert_exporter": "python",
   "pygments_lexer": "ipython3",
   "version": "3.11.8"
  }
 },
 "nbformat": 4,
 "nbformat_minor": 2
}
